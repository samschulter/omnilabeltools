{
 "cells": [
  {
   "cell_type": "code",
   "execution_count": null,
   "id": "ab2cf27e",
   "metadata": {},
   "outputs": [],
   "source": [
    "from omnilabeltools import OmniLabel, OmniLabelEval, visualize_image_sample\n",
    "import json\n",
    "import tempfile\n",
    "import matplotlib.pyplot as plt\n",
    "\n",
    "gt_json = 'data/dataset_all_val.json'\n",
    "path_imgs = 'data/imgs'\n",
    "\n",
    "omni_label = OmniLabel(path_json=gt_json)"
   ]
  },
  {
   "cell_type": "markdown",
   "id": "793eec7f",
   "metadata": {},
   "source": [
    "## Visualize an example"
   ]
  },
  {
   "cell_type": "code",
   "execution_count": null,
   "id": "e2d1cbd4",
   "metadata": {},
   "outputs": [],
   "source": [
    "sample_idx = omni_label.image_ids[0]\n",
    "print(\"Sample index:\", sample_idx)\n",
    "vis = visualize_image_sample(omni_label.get_image_sample(sample_idx), path_imgs=path_imgs)\n",
    "plt.imshow(vis); plt.show()"
   ]
  },
  {
   "cell_type": "markdown",
   "id": "ed074fdc",
   "metadata": {},
   "source": [
    "## Simulate detection results"
   ]
  },
  {
   "cell_type": "code",
   "execution_count": null,
   "id": "f648c497",
   "metadata": {},
   "outputs": [],
   "source": [
    "with open(gt_json, \"r\") as f:\n",
    "    results = json.load(f)[\"annotations\"]\n",
    "    for result in results:\n",
    "        result[\"scores\"] = [1] * len(result[\"description_ids\"])\n",
    "\n",
    "with tempfile.NamedTemporaryFile(mode=\"w\") as f:\n",
    "    json.dump(results, f)\n",
    "    f.flush()\n",
    "    omni_det = omni_label.load_res(f.name)"
   ]
  },
  {
   "cell_type": "markdown",
   "id": "8d2cd780",
   "metadata": {},
   "source": [
    "## Visualize a detection result"
   ]
  },
  {
   "cell_type": "code",
   "execution_count": null,
   "id": "74d52f04",
   "metadata": {},
   "outputs": [],
   "source": [
    "vis = visualize_image_sample(omni_det.get_image_sample(sample_idx), path_imgs=path_imgs)\n",
    "plt.imshow(vis); plt.show()"
   ]
  },
  {
   "cell_type": "markdown",
   "id": "de64aab2",
   "metadata": {},
   "source": [
    "## Evaluate"
   ]
  },
  {
   "cell_type": "code",
   "execution_count": null,
   "id": "1fd7309c",
   "metadata": {},
   "outputs": [],
   "source": [
    "omni_label_eval = OmniLabelEval(gt=omni_label, dt=omni_det)\n",
    "omni_label_eval.evaluate()\n",
    "omni_label_eval.accumulate()\n",
    "omni_label_eval.summarize()"
   ]
  },
  {
   "cell_type": "code",
   "execution_count": null,
   "id": "8179c70c",
   "metadata": {},
   "outputs": [],
   "source": []
  }
 ],
 "metadata": {
  "kernelspec": {
   "display_name": "Python 3 (ipykernel)",
   "language": "python",
   "name": "python3"
  },
  "language_info": {
   "codemirror_mode": {
    "name": "ipython",
    "version": 3
   },
   "file_extension": ".py",
   "mimetype": "text/x-python",
   "name": "python",
   "nbconvert_exporter": "python",
   "pygments_lexer": "ipython3",
   "version": "3.8.15"
  }
 },
 "nbformat": 4,
 "nbformat_minor": 5
}
